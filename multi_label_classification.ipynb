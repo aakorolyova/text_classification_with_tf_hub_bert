{
 "cells": [
  {
   "cell_type": "markdown",
   "id": "eb2c90fd",
   "metadata": {},
   "source": [
    "This code was used in \"uHack Sentiments 2.0: Decode Code Words\" hackathon ( https://machinehack.com/hackathon/uhack_sentiments_20_decode_code_words/leaderboard) and resulted in public score of 3.4853 - 0.75 point behind the winning submission. Still room for improvement!"
   ]
  },
  {
   "cell_type": "code",
   "execution_count": 1,
   "id": "370126f6",
   "metadata": {},
   "outputs": [],
   "source": [
    "import numpy as np\n",
    "import pandas as pd\n",
    "import tensorflow as tf\n",
    "import matplotlib.pyplot as plt\n",
    "from sklearn.model_selection import train_test_split"
   ]
  },
  {
   "cell_type": "code",
   "execution_count": 2,
   "id": "a8c7a2fc",
   "metadata": {},
   "outputs": [],
   "source": [
    "from build_model import build_model\n",
    "from preprocessing import create_tokenizer_from_hub_module, convert_single_example, \\\n",
    "                        convert_examples_to_features, convert_text_to_examples, initialize_vars"
   ]
  },
  {
   "cell_type": "code",
   "execution_count": 3,
   "id": "f6df4786",
   "metadata": {},
   "outputs": [],
   "source": [
    "sess = tf.compat.v1.Session()"
   ]
  },
  {
   "cell_type": "markdown",
   "id": "6b429693",
   "metadata": {},
   "source": [
    "Let's load the data and see what our columns look like.\n",
    "Note that there are multiple colums with prediction target; each column contains a binary label (0 or 1), and a text can have 1's in several columns. This means that we are dealing with multi-label classification."
   ]
  },
  {
   "cell_type": "code",
   "execution_count": 4,
   "id": "74ada2f2",
   "metadata": {},
   "outputs": [
    {
     "data": {
      "text/html": [
       "<div>\n",
       "<style scoped>\n",
       "    .dataframe tbody tr th:only-of-type {\n",
       "        vertical-align: middle;\n",
       "    }\n",
       "\n",
       "    .dataframe tbody tr th {\n",
       "        vertical-align: top;\n",
       "    }\n",
       "\n",
       "    .dataframe thead th {\n",
       "        text-align: right;\n",
       "    }\n",
       "</style>\n",
       "<table border=\"1\" class=\"dataframe\">\n",
       "  <thead>\n",
       "    <tr style=\"text-align: right;\">\n",
       "      <th></th>\n",
       "      <th>Id</th>\n",
       "      <th>Review</th>\n",
       "      <th>Components</th>\n",
       "      <th>Delivery and Customer Support</th>\n",
       "      <th>Design and Aesthetics</th>\n",
       "      <th>Dimensions</th>\n",
       "      <th>Features</th>\n",
       "      <th>Functionality</th>\n",
       "      <th>Installation</th>\n",
       "      <th>Material</th>\n",
       "      <th>Price</th>\n",
       "      <th>Quality</th>\n",
       "      <th>Usability</th>\n",
       "      <th>Polarity</th>\n",
       "    </tr>\n",
       "  </thead>\n",
       "  <tbody>\n",
       "    <tr>\n",
       "      <th>0</th>\n",
       "      <td>0</td>\n",
       "      <td>For some reason everybody complains and I'm co...</td>\n",
       "      <td>0</td>\n",
       "      <td>0</td>\n",
       "      <td>0</td>\n",
       "      <td>0</td>\n",
       "      <td>0</td>\n",
       "      <td>0</td>\n",
       "      <td>0</td>\n",
       "      <td>0</td>\n",
       "      <td>0</td>\n",
       "      <td>0</td>\n",
       "      <td>1</td>\n",
       "      <td>0</td>\n",
       "    </tr>\n",
       "    <tr>\n",
       "      <th>1</th>\n",
       "      <td>1</td>\n",
       "      <td>I like everything about it, great choice of sp...</td>\n",
       "      <td>0</td>\n",
       "      <td>0</td>\n",
       "      <td>0</td>\n",
       "      <td>0</td>\n",
       "      <td>1</td>\n",
       "      <td>1</td>\n",
       "      <td>0</td>\n",
       "      <td>0</td>\n",
       "      <td>0</td>\n",
       "      <td>0</td>\n",
       "      <td>0</td>\n",
       "      <td>1</td>\n",
       "    </tr>\n",
       "    <tr>\n",
       "      <th>2</th>\n",
       "      <td>2</td>\n",
       "      <td>Excellent ceiling fan brace. Easy to install a...</td>\n",
       "      <td>0</td>\n",
       "      <td>0</td>\n",
       "      <td>0</td>\n",
       "      <td>0</td>\n",
       "      <td>0</td>\n",
       "      <td>0</td>\n",
       "      <td>1</td>\n",
       "      <td>0</td>\n",
       "      <td>0</td>\n",
       "      <td>1</td>\n",
       "      <td>0</td>\n",
       "      <td>1</td>\n",
       "    </tr>\n",
       "    <tr>\n",
       "      <th>3</th>\n",
       "      <td>3</td>\n",
       "      <td>Work great easy to use . No issues at all with...</td>\n",
       "      <td>0</td>\n",
       "      <td>0</td>\n",
       "      <td>0</td>\n",
       "      <td>0</td>\n",
       "      <td>0</td>\n",
       "      <td>1</td>\n",
       "      <td>0</td>\n",
       "      <td>0</td>\n",
       "      <td>0</td>\n",
       "      <td>0</td>\n",
       "      <td>1</td>\n",
       "      <td>1</td>\n",
       "    </tr>\n",
       "    <tr>\n",
       "      <th>4</th>\n",
       "      <td>4</td>\n",
       "      <td>I would recommend this product because it is p...</td>\n",
       "      <td>0</td>\n",
       "      <td>0</td>\n",
       "      <td>0</td>\n",
       "      <td>0</td>\n",
       "      <td>0</td>\n",
       "      <td>0</td>\n",
       "      <td>0</td>\n",
       "      <td>0</td>\n",
       "      <td>0</td>\n",
       "      <td>1</td>\n",
       "      <td>0</td>\n",
       "      <td>1</td>\n",
       "    </tr>\n",
       "  </tbody>\n",
       "</table>\n",
       "</div>"
      ],
      "text/plain": [
       "   Id                                             Review  Components  \\\n",
       "0   0  For some reason everybody complains and I'm co...           0   \n",
       "1   1  I like everything about it, great choice of sp...           0   \n",
       "2   2  Excellent ceiling fan brace. Easy to install a...           0   \n",
       "3   3  Work great easy to use . No issues at all with...           0   \n",
       "4   4  I would recommend this product because it is p...           0   \n",
       "\n",
       "   Delivery and Customer Support  Design and Aesthetics  Dimensions  Features  \\\n",
       "0                              0                      0           0         0   \n",
       "1                              0                      0           0         1   \n",
       "2                              0                      0           0         0   \n",
       "3                              0                      0           0         0   \n",
       "4                              0                      0           0         0   \n",
       "\n",
       "   Functionality  Installation  Material  Price  Quality  Usability  Polarity  \n",
       "0              0             0         0      0        0          1         0  \n",
       "1              1             0         0      0        0          0         1  \n",
       "2              0             1         0      0        1          0         1  \n",
       "3              1             0         0      0        0          1         1  \n",
       "4              0             0         0      0        1          0         1  "
      ]
     },
     "execution_count": 4,
     "metadata": {},
     "output_type": "execute_result"
    }
   ],
   "source": [
    "data = pd.read_csv(r'C:\\Users\\Anna\\Files\\SentimentAnalysis\\ugam\\train.csv')\n",
    "data.head()"
   ]
  },
  {
   "cell_type": "code",
   "execution_count": 5,
   "id": "e4925d30",
   "metadata": {},
   "outputs": [
    {
     "data": {
      "text/plain": [
       "(6136, 14)"
      ]
     },
     "execution_count": 5,
     "metadata": {},
     "output_type": "execute_result"
    }
   ],
   "source": [
    "data.shape"
   ]
  },
  {
   "cell_type": "markdown",
   "id": "40e6d69b",
   "metadata": {},
   "source": [
    "The data contains 6136 entries - not huge, so let's try 0.1 as dev size."
   ]
  },
  {
   "cell_type": "code",
   "execution_count": 6,
   "id": "07f7f7a4",
   "metadata": {},
   "outputs": [],
   "source": [
    "train, dev = train_test_split(data, test_size=0.1)"
   ]
  },
  {
   "cell_type": "code",
   "execution_count": 7,
   "id": "79b8e32d",
   "metadata": {},
   "outputs": [
    {
     "data": {
      "text/plain": [
       "(5522, 14)"
      ]
     },
     "execution_count": 7,
     "metadata": {},
     "output_type": "execute_result"
    }
   ],
   "source": [
    "train.shape"
   ]
  },
  {
   "cell_type": "code",
   "execution_count": 8,
   "id": "4660f99a",
   "metadata": {},
   "outputs": [],
   "source": [
    "max_seq_length = 150"
   ]
  },
  {
   "cell_type": "code",
   "execution_count": 9,
   "id": "15e54522",
   "metadata": {},
   "outputs": [],
   "source": [
    "train_text = train['Review'].tolist()\n",
    "train_text = np.array(train_text, dtype=object)[:, np.newaxis]\n",
    "\n",
    "dev_text = dev['Review'].tolist()\n",
    "dev_text = np.array(dev_text, dtype=object)[:, np.newaxis]"
   ]
  },
  {
   "cell_type": "markdown",
   "id": "4ea3a0e2",
   "metadata": {},
   "source": [
    "As we saw before, column 0 is ID, column 1 is text, and labels are contained in columns starting from 2"
   ]
  },
  {
   "cell_type": "code",
   "execution_count": 10,
   "id": "261de6ac",
   "metadata": {},
   "outputs": [
    {
     "data": {
      "text/plain": [
       "Index(['Components', 'Delivery and Customer Support', 'Design and Aesthetics',\n",
       "       'Dimensions', 'Features', 'Functionality', 'Installation', 'Material',\n",
       "       'Price', 'Quality', 'Usability', 'Polarity'],\n",
       "      dtype='object')"
      ]
     },
     "execution_count": 10,
     "metadata": {},
     "output_type": "execute_result"
    }
   ],
   "source": [
    "labels_list = data.columns[2:]\n",
    "labels_list"
   ]
  },
  {
   "cell_type": "markdown",
   "id": "5346e4ce",
   "metadata": {},
   "source": [
    "We will need the number of labels when building the model"
   ]
  },
  {
   "cell_type": "code",
   "execution_count": 11,
   "id": "4a491da3",
   "metadata": {},
   "outputs": [],
   "source": [
    "num_labels = len(labels_list)\n",
    "train_labels = train[labels_list].to_numpy()\n",
    "dev_labels = dev[labels_list].to_numpy()"
   ]
  },
  {
   "cell_type": "code",
   "execution_count": 12,
   "id": "8ac0d149",
   "metadata": {},
   "outputs": [
    {
     "name": "stdout",
     "output_type": "stream",
     "text": [
      "INFO:tensorflow:Saver not created because there are no variables in the graph to restore\n"
     ]
    },
    {
     "name": "stderr",
     "output_type": "stream",
     "text": [
      "INFO:tensorflow:Saver not created because there are no variables in the graph to restore\n"
     ]
    },
    {
     "name": "stdout",
     "output_type": "stream",
     "text": [
      "WARNING:tensorflow:From c:\\users\\anna\\pycharmprojects\\ugam_sentiment\\venv\\lib\\site-packages\\bert\\tokenization.py:125: The name tf.gfile.GFile is deprecated. Please use tf.io.gfile.GFile instead.\n",
      "\n"
     ]
    },
    {
     "name": "stderr",
     "output_type": "stream",
     "text": [
      "WARNING:tensorflow:From c:\\users\\anna\\pycharmprojects\\ugam_sentiment\\venv\\lib\\site-packages\\bert\\tokenization.py:125: The name tf.gfile.GFile is deprecated. Please use tf.io.gfile.GFile instead.\n",
      "\n"
     ]
    }
   ],
   "source": [
    "bert_path = \"https://tfhub.dev/google/bert_uncased_L-12_H-768_A-12/1\"\n",
    "tokenizer = create_tokenizer_from_hub_module(bert_path, sess)"
   ]
  },
  {
   "cell_type": "markdown",
   "id": "31e1036a",
   "metadata": {},
   "source": [
    "Convert data to InputExample format"
   ]
  },
  {
   "cell_type": "code",
   "execution_count": 13,
   "id": "25f6d266",
   "metadata": {},
   "outputs": [],
   "source": [
    "train_examples = convert_text_to_examples(train_text)\n",
    "dev_examples = convert_text_to_examples(dev_text)"
   ]
  },
  {
   "cell_type": "markdown",
   "id": "e762454c",
   "metadata": {},
   "source": [
    "Convert data to BERT input format"
   ]
  },
  {
   "cell_type": "code",
   "execution_count": 14,
   "id": "bc96f9b5",
   "metadata": {},
   "outputs": [
    {
     "name": "stderr",
     "output_type": "stream",
     "text": [
      "Converting examples to features: 100%|████████████████████████████████████████████████████████████████████████████████████████████████████████████| 5522/5522 [00:10<00:00, 528.42it/s]\n",
      "Converting examples to features: 100%|██████████████████████████████████████████████████████████████████████████████████████████████████████████████| 614/614 [00:01<00:00, 472.44it/s]\n"
     ]
    }
   ],
   "source": [
    "(train_input_ids,\n",
    "train_input_masks,\n",
    "train_segment_ids) = convert_examples_to_features(tokenizer, train_examples, max_seq_length=max_seq_length)\n",
    "(dev_input_ids,\n",
    "dev_input_masks,\n",
    "dev_segment_ids) = convert_examples_to_features(tokenizer, dev_examples, max_seq_length=max_seq_length)"
   ]
  },
  {
   "cell_type": "code",
   "execution_count": 15,
   "id": "358cdabd",
   "metadata": {},
   "outputs": [
    {
     "data": {
      "text/plain": [
       "(5522, 150)"
      ]
     },
     "execution_count": 15,
     "metadata": {},
     "output_type": "execute_result"
    }
   ],
   "source": [
    "train_input_ids.shape"
   ]
  },
  {
   "cell_type": "code",
   "execution_count": 16,
   "id": "3f7733f5",
   "metadata": {},
   "outputs": [
    {
     "data": {
      "text/plain": [
       "(5522, 12)"
      ]
     },
     "execution_count": 16,
     "metadata": {},
     "output_type": "execute_result"
    }
   ],
   "source": [
    "train_labels.shape"
   ]
  },
  {
   "cell_type": "markdown",
   "id": "7d530483",
   "metadata": {},
   "source": [
    "EarlyStopping in case val_loss does not go down over 3 epochs"
   ]
  },
  {
   "cell_type": "code",
   "execution_count": 17,
   "id": "d0d2d34b",
   "metadata": {},
   "outputs": [],
   "source": [
    "my_callback = tf.keras.callbacks.EarlyStopping(monitor='val_loss',\n",
    "                                min_delta=0,\n",
    "                                patience=3,\n",
    "                                verbose=0,\n",
    "                                mode='auto',\n",
    "                                baseline=None,\n",
    "                                restore_best_weights=True)"
   ]
  },
  {
   "cell_type": "markdown",
   "id": "043399ad",
   "metadata": {},
   "source": [
    "Building the model: passing max_seq_length to define the input shape, and num_labels to define the number of units in the last layer.\n",
    "Compiling the model: for multi-label classifiction where each label is binary, we use binary_crossentropy loss and categorical_accuracy metric (as per https://keras.io/examples/nlp/multi_label_classification/)."
   ]
  },
  {
   "cell_type": "code",
   "execution_count": 18,
   "id": "3e8604e8",
   "metadata": {},
   "outputs": [
    {
     "name": "stdout",
     "output_type": "stream",
     "text": [
      "INFO:tensorflow:Saver not created because there are no variables in the graph to restore\n"
     ]
    },
    {
     "name": "stderr",
     "output_type": "stream",
     "text": [
      "INFO:tensorflow:Saver not created because there are no variables in the graph to restore\n"
     ]
    },
    {
     "name": "stdout",
     "output_type": "stream",
     "text": [
      "WARNING:tensorflow:From c:\\users\\anna\\pycharmprojects\\ugam_sentiment\\venv\\lib\\site-packages\\tensorflow_core\\python\\ops\\resource_variable_ops.py:1630: calling BaseResourceVariable.__init__ (from tensorflow.python.ops.resource_variable_ops) with constraint is deprecated and will be removed in a future version.\n",
      "Instructions for updating:\n",
      "If using Keras pass *_constraint arguments to layers.\n"
     ]
    },
    {
     "name": "stderr",
     "output_type": "stream",
     "text": [
      "WARNING:tensorflow:From c:\\users\\anna\\pycharmprojects\\ugam_sentiment\\venv\\lib\\site-packages\\tensorflow_core\\python\\ops\\resource_variable_ops.py:1630: calling BaseResourceVariable.__init__ (from tensorflow.python.ops.resource_variable_ops) with constraint is deprecated and will be removed in a future version.\n",
      "Instructions for updating:\n",
      "If using Keras pass *_constraint arguments to layers.\n"
     ]
    },
    {
     "name": "stdout",
     "output_type": "stream",
     "text": [
      "WARNING:tensorflow:From c:\\users\\anna\\pycharmprojects\\ugam_sentiment\\venv\\lib\\site-packages\\tensorflow_core\\python\\ops\\nn_impl.py:183: where (from tensorflow.python.ops.array_ops) is deprecated and will be removed in a future version.\n",
      "Instructions for updating:\n",
      "Use tf.where in 2.0, which has the same broadcast rule as np.where\n"
     ]
    },
    {
     "name": "stderr",
     "output_type": "stream",
     "text": [
      "WARNING:tensorflow:From c:\\users\\anna\\pycharmprojects\\ugam_sentiment\\venv\\lib\\site-packages\\tensorflow_core\\python\\ops\\nn_impl.py:183: where (from tensorflow.python.ops.array_ops) is deprecated and will be removed in a future version.\n",
      "Instructions for updating:\n",
      "Use tf.where in 2.0, which has the same broadcast rule as np.where\n"
     ]
    },
    {
     "name": "stdout",
     "output_type": "stream",
     "text": [
      "Model: \"model\"\n",
      "__________________________________________________________________________________________________\n",
      "Layer (type)                    Output Shape         Param #     Connected to                     \n",
      "==================================================================================================\n",
      "input_ids (InputLayer)          [(None, 150)]        0                                            \n",
      "__________________________________________________________________________________________________\n",
      "input_masks (InputLayer)        [(None, 150)]        0                                            \n",
      "__________________________________________________________________________________________________\n",
      "segment_ids (InputLayer)        [(None, 150)]        0                                            \n",
      "__________________________________________________________________________________________________\n",
      "bert_layer (BertLayer)          (None, 768)          110104890   input_ids[0][0]                  \n",
      "                                                                 input_masks[0][0]                \n",
      "                                                                 segment_ids[0][0]                \n",
      "__________________________________________________________________________________________________\n",
      "dense (Dense)                   (None, 12)           9228        bert_layer[0][0]                 \n",
      "==================================================================================================\n",
      "Total params: 110,114,118\n",
      "Trainable params: 21,272,844\n",
      "Non-trainable params: 88,841,274\n",
      "__________________________________________________________________________________________________\n"
     ]
    }
   ],
   "source": [
    "model = build_model(max_seq_length, num_labels)\n",
    "model.compile(loss=\"binary_crossentropy\", optimizer=\"adam\", metrics=[\"categorical_accuracy\"])\n",
    "model.summary()"
   ]
  },
  {
   "cell_type": "code",
   "execution_count": 32,
   "id": "4975ffc1",
   "metadata": {},
   "outputs": [
    {
     "name": "stdout",
     "output_type": "stream",
     "text": [
      "Train on 5522 samples, validate on 614 samples\n",
      "Epoch 1/20\n",
      "5522/5522 [==============================] - 1397s 253ms/sample - loss: 0.2189 - categorical_accuracy: 0.2300 - my_metric: 0.0000e+00 - val_loss: 0.1940 - val_categorical_accuracy: 0.3925 - val_my_metric: 0.0000e+00\n",
      "Epoch 2/20\n",
      "5522/5522 [==============================] - 1393s 252ms/sample - loss: 0.1400 - categorical_accuracy: 0.3182 - my_metric: 0.0000e+00 - val_loss: 0.1807 - val_categorical_accuracy: 0.2427 - val_my_metric: 0.0000e+00\n",
      "Epoch 3/20\n",
      "5522/5522 [==============================] - 1398s 253ms/sample - loss: 0.1116 - categorical_accuracy: 0.3729 - my_metric: 0.0000e+00 - val_loss: 0.1732 - val_categorical_accuracy: 0.2785 - val_my_metric: 0.0000e+00\n",
      "Epoch 4/20\n",
      "5522/5522 [==============================] - 1400s 253ms/sample - loss: 0.0864 - categorical_accuracy: 0.3933 - my_metric: 0.0000e+00 - val_loss: 0.2007 - val_categorical_accuracy: 0.2199 - val_my_metric: 0.0000e+00\n",
      "Epoch 5/20\n",
      "5522/5522 [==============================] - 1392s 252ms/sample - loss: 0.0660 - categorical_accuracy: 0.4212 - my_metric: 0.0000e+00 - val_loss: 0.2120 - val_categorical_accuracy: 0.3241 - val_my_metric: 0.0000e+00\n",
      "Epoch 6/20\n",
      "5522/5522 [==============================] - 1390s 252ms/sample - loss: 0.3610 - categorical_accuracy: 0.1092 - my_metric: 0.0000e+00 - val_loss: 0.3553 - val_categorical_accuracy: 0.1710 - val_my_metric: 0.0000e+00\n",
      "Epoch 7/20\n",
      "5522/5522 [==============================] - 1388s 251ms/sample - loss: 0.3183 - categorical_accuracy: 0.1691 - my_metric: 0.0000e+00 - val_loss: 0.3280 - val_categorical_accuracy: 0.1124 - val_my_metric: 0.0000e+00\n",
      "Epoch 8/20\n",
      "5522/5522 [==============================] - 1391s 252ms/sample - loss: 0.2981 - categorical_accuracy: 0.1753 - my_metric: 0.0000e+00 - val_loss: 0.3208 - val_categorical_accuracy: 0.1417 - val_my_metric: 0.0000e+00\n"
     ]
    },
    {
     "data": {
      "text/plain": [
       "<tensorflow.python.keras.callbacks.History at 0x1d89cbb0d88>"
      ]
     },
     "execution_count": 32,
     "metadata": {},
     "output_type": "execute_result"
    }
   ],
   "source": [
    "epochs = 20\n",
    "batch_size = 32\n",
    "\n",
    "history = model.fit(\n",
    "    [train_input_ids, train_input_masks, train_segment_ids],\n",
    "    train_labels,\n",
    "    validation_data=(\n",
    "        [dev_input_ids, dev_input_masks, dev_segment_ids],\n",
    "        dev_labels,\n",
    "    ),\n",
    "    epochs=epochs,\n",
    "    batch_size=batch_size,\n",
    "    callbacks=[my_callback]\n",
    ")"
   ]
  },
  {
   "cell_type": "markdown",
   "id": "5d35f98e",
   "metadata": {},
   "source": [
    "Plot model history for accuracy:"
   ]
  },
  {
   "cell_type": "code",
   "execution_count": null,
   "id": "2e2e957e",
   "metadata": {},
   "outputs": [],
   "source": [
    "plt.plot(history.history['categorical_accuracy'])\n",
    "plt.plot(history.history['val_categorical_accuracy'])\n",
    "plt.title('model accuracy')\n",
    "plt.ylabel('accuracy')\n",
    "plt.xlabel('epoch')\n",
    "plt.legend(['train', 'test'], loc='upper left')\n",
    "plt.show()"
   ]
  },
  {
   "cell_type": "markdown",
   "id": "36fd5c60",
   "metadata": {},
   "source": [
    "Plot model history for loss:"
   ]
  },
  {
   "cell_type": "code",
   "execution_count": null,
   "id": "88cb4c3e",
   "metadata": {},
   "outputs": [],
   "source": [
    "plt.plot(history.history['loss'])\n",
    "plt.plot(history.history['val_loss'])\n",
    "plt.title('model loss')\n",
    "plt.ylabel('loss')\n",
    "plt.xlabel('epoch')\n",
    "plt.legend(['train', 'test'], loc='upper left')\n",
    "plt.show()"
   ]
  },
  {
   "cell_type": "markdown",
   "id": "622784a5",
   "metadata": {},
   "source": [
    "To save the model's weights:"
   ]
  },
  {
   "cell_type": "code",
   "execution_count": 33,
   "id": "1e3576e2",
   "metadata": {},
   "outputs": [],
   "source": [
    "model.save_weights(r'weights')"
   ]
  },
  {
   "cell_type": "markdown",
   "id": "d456c41e",
   "metadata": {},
   "source": [
    "Let's predict test data labels now"
   ]
  },
  {
   "cell_type": "code",
   "execution_count": 34,
   "id": "8dd3ef8c",
   "metadata": {},
   "outputs": [],
   "source": [
    "test = pd.read_csv(r'C:\\Users\\Anna\\Files\\SentimentAnalysis\\ugam\\test.csv')\n",
    "test_text = test['Review'].tolist()\n",
    "test_text = np.array(test_text, dtype=object)[:, np.newaxis]"
   ]
  },
  {
   "cell_type": "code",
   "execution_count": 35,
   "id": "5a650bdc",
   "metadata": {},
   "outputs": [],
   "source": [
    "test_examples = convert_text_to_examples(test_text)"
   ]
  },
  {
   "cell_type": "code",
   "execution_count": 36,
   "id": "57a8fcc9",
   "metadata": {},
   "outputs": [
    {
     "name": "stderr",
     "output_type": "stream",
     "text": [
      "Converting examples to features: 100%|███████████████████████████████████████████████████████████████████████████████████████████████████████████| 2631/2631 [00:01<00:00, 2456.19it/s]\n"
     ]
    }
   ],
   "source": [
    "(test_input_ids,\n",
    "test_input_masks,\n",
    "test_segment_ids) = convert_examples_to_features(tokenizer, test_examples, max_seq_length=max_seq_length)"
   ]
  },
  {
   "cell_type": "code",
   "execution_count": 37,
   "id": "6d201649",
   "metadata": {},
   "outputs": [],
   "source": [
    "pred = model.predict([test_input_ids,\n",
    "                        test_input_masks,\n",
    "                        test_segment_ids], batch_size = batch_size)"
   ]
  },
  {
   "cell_type": "markdown",
   "id": "76ea66d3",
   "metadata": {},
   "source": [
    "To save predictions as a csv:"
   ]
  },
  {
   "cell_type": "code",
   "execution_count": 38,
   "id": "0636fb67",
   "metadata": {},
   "outputs": [],
   "source": [
    "df = pd.DataFrame(data=pred, columns=[labels_list])\n",
    "df.to_csv(r'predictions.csv', index = False)"
   ]
  },
  {
   "cell_type": "code",
   "execution_count": null,
   "id": "5987a4bd",
   "metadata": {},
   "outputs": [],
   "source": []
  }
 ],
 "metadata": {
  "kernelspec": {
   "display_name": "Python 3 (ipykernel)",
   "language": "python",
   "name": "python3"
  },
  "language_info": {
   "codemirror_mode": {
    "name": "ipython",
    "version": 3
   },
   "file_extension": ".py",
   "mimetype": "text/x-python",
   "name": "python",
   "nbconvert_exporter": "python",
   "pygments_lexer": "ipython3",
   "version": "3.7.9"
  }
 },
 "nbformat": 4,
 "nbformat_minor": 5
}
